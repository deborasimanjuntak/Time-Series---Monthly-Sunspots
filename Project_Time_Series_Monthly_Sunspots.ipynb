{
  "nbformat": 4,
  "nbformat_minor": 0,
  "metadata": {
    "colab": {
      "name": "Project Time Series - Monthly Sunspots.ipynb",
      "provenance": [],
      "collapsed_sections": []
    },
    "kernelspec": {
      "name": "python3",
      "display_name": "Python 3"
    },
    "language_info": {
      "name": "python"
    }
  },
  "cells": [
    {
      "cell_type": "code",
      "metadata": {
        "id": "2HIZsJpm4QJ2"
      },
      "source": [
        "# Nama : Debora Udania Simanjuntak\n",
        "# Kelas : Belajar Pengembangan Machine Learning"
      ],
      "execution_count": 165,
      "outputs": []
    },
    {
      "cell_type": "code",
      "metadata": {
        "id": "qZQMwU9-hmgM"
      },
      "source": [
        "# Import the libraries and data\n",
        "import pandas as pd\n",
        "import numpy as np \n",
        "import matplotlib.pyplot as plt\n"
      ],
      "execution_count": 164,
      "outputs": []
    },
    {
      "cell_type": "code",
      "metadata": {
        "colab": {
          "base_uri": "https://localhost:8080/",
          "height": 204
        },
        "id": "uIDu85kqiSxa",
        "outputId": "d4a04217-5c5a-4d1d-8f15-009dc9f447d8"
      },
      "source": [
        "data=pd.read_csv(\"monthly-sunspots.csv\")\n",
        "data.head()"
      ],
      "execution_count": 149,
      "outputs": [
        {
          "output_type": "execute_result",
          "data": {
            "text/html": [
              "<div>\n",
              "<style scoped>\n",
              "    .dataframe tbody tr th:only-of-type {\n",
              "        vertical-align: middle;\n",
              "    }\n",
              "\n",
              "    .dataframe tbody tr th {\n",
              "        vertical-align: top;\n",
              "    }\n",
              "\n",
              "    .dataframe thead th {\n",
              "        text-align: right;\n",
              "    }\n",
              "</style>\n",
              "<table border=\"1\" class=\"dataframe\">\n",
              "  <thead>\n",
              "    <tr style=\"text-align: right;\">\n",
              "      <th></th>\n",
              "      <th>Month</th>\n",
              "      <th>Sunspots</th>\n",
              "    </tr>\n",
              "  </thead>\n",
              "  <tbody>\n",
              "    <tr>\n",
              "      <th>0</th>\n",
              "      <td>1749-01</td>\n",
              "      <td>58.0</td>\n",
              "    </tr>\n",
              "    <tr>\n",
              "      <th>1</th>\n",
              "      <td>1749-02</td>\n",
              "      <td>62.6</td>\n",
              "    </tr>\n",
              "    <tr>\n",
              "      <th>2</th>\n",
              "      <td>1749-03</td>\n",
              "      <td>70.0</td>\n",
              "    </tr>\n",
              "    <tr>\n",
              "      <th>3</th>\n",
              "      <td>1749-04</td>\n",
              "      <td>55.7</td>\n",
              "    </tr>\n",
              "    <tr>\n",
              "      <th>4</th>\n",
              "      <td>1749-05</td>\n",
              "      <td>85.0</td>\n",
              "    </tr>\n",
              "  </tbody>\n",
              "</table>\n",
              "</div>"
            ],
            "text/plain": [
              "     Month  Sunspots\n",
              "0  1749-01      58.0\n",
              "1  1749-02      62.6\n",
              "2  1749-03      70.0\n",
              "3  1749-04      55.7\n",
              "4  1749-05      85.0"
            ]
          },
          "metadata": {
            "tags": []
          },
          "execution_count": 149
        }
      ]
    },
    {
      "cell_type": "code",
      "metadata": {
        "id": "nHVZ281gz5dp"
      },
      "source": [
        "data=data[600:]"
      ],
      "execution_count": 150,
      "outputs": []
    },
    {
      "cell_type": "code",
      "metadata": {
        "colab": {
          "base_uri": "https://localhost:8080/"
        },
        "id": "w9tsksMeizjN",
        "outputId": "8b5e68e6-88a4-42fc-b070-2c9fcab0b257"
      },
      "source": [
        "data.info()"
      ],
      "execution_count": 151,
      "outputs": [
        {
          "output_type": "stream",
          "text": [
            "<class 'pandas.core.frame.DataFrame'>\n",
            "RangeIndex: 2220 entries, 600 to 2819\n",
            "Data columns (total 2 columns):\n",
            " #   Column    Non-Null Count  Dtype  \n",
            "---  ------    --------------  -----  \n",
            " 0   Month     2220 non-null   object \n",
            " 1   Sunspots  2220 non-null   float64\n",
            "dtypes: float64(1), object(1)\n",
            "memory usage: 34.8+ KB\n"
          ],
          "name": "stdout"
        }
      ]
    },
    {
      "cell_type": "code",
      "metadata": {
        "colab": {
          "base_uri": "https://localhost:8080/"
        },
        "id": "kT2vQETgiYz9",
        "outputId": "9249e46d-e733-49f9-8cd5-731302a96e68"
      },
      "source": [
        "skala=(max(data.Sunspots)-min(data.Sunspots))*0.1\n",
        "skala"
      ],
      "execution_count": 152,
      "outputs": [
        {
          "output_type": "execute_result",
          "data": {
            "text/plain": [
              "25.380000000000003"
            ]
          },
          "metadata": {
            "tags": []
          },
          "execution_count": 152
        }
      ]
    },
    {
      "cell_type": "code",
      "metadata": {
        "colab": {
          "base_uri": "https://localhost:8080/",
          "height": 282
        },
        "id": "na1CrqRCixz2",
        "outputId": "3d4f6dc8-4af2-4166-eb7d-2589b5ebde3f"
      },
      "source": [
        "# Visualize the data\n",
        "\n",
        "plt.plot(data.Month,data.Sunspots)"
      ],
      "execution_count": 153,
      "outputs": [
        {
          "output_type": "execute_result",
          "data": {
            "text/plain": [
              "[<matplotlib.lines.Line2D at 0x7f43d4e03a50>]"
            ]
          },
          "metadata": {
            "tags": []
          },
          "execution_count": 153
        },
        {
          "output_type": "display_data",
          "data": {
            "image/png": "[encoded data removed]",
            "text/plain": [
              "<Figure size 432x288 with 1 Axes>"
            ]
          },
          "metadata": {
            "tags": [],
            "needs_background": "light"
          }
        }
      ]
    },
    {
      "cell_type": "code",
      "metadata": {
        "id": "obkJj1IejGyP"
      },
      "source": [
        "# Split the data into train and test\n",
        "length=len(data)\n",
        "\n",
        "train=data[1:round(length*0.8)]\n",
        "test=data[round(length*0.8):]\n",
        "\n"
      ],
      "execution_count": 154,
      "outputs": []
    },
    {
      "cell_type": "code",
      "metadata": {
        "id": "cqQbdhskk52T"
      },
      "source": [
        "sunspots_train=train.Sunspots.values\n",
        "month_train=train.Month.values\n",
        "sunspots_test=test.Sunspots.values\n",
        "month_test=test.Month.values"
      ],
      "execution_count": 155,
      "outputs": []
    },
    {
      "cell_type": "code",
      "metadata": {
        "id": "SL2NFsG5pnlL"
      },
      "source": [
        "sunspots_train=sunspots_train.reshape((-1,1))\n",
        "sunspots_test=sunspots_test.reshape((-1,1))"
      ],
      "execution_count": 156,
      "outputs": []
    },
    {
      "cell_type": "code",
      "metadata": {
        "id": "81T9QiW3l8T0"
      },
      "source": [
        "# Make a function to return label and atribute from the dataset\n",
        "import tensorflow as tf\n",
        "from keras.layers import Dense, LSTM,Dropout\n",
        "from keras.models import Sequential\n",
        "\n",
        "def windowed_dataset(series, window_size, batch_size, shuffle_buffer):\n",
        "    series = tf.expand_dims(series, axis=-1)\n",
        "    ds = tf.data.Dataset.from_tensor_slices(series)\n",
        "    ds = ds.window(window_size + 1, shift=1, drop_remainder=True)\n",
        "    ds = ds.flat_map(lambda w: w.batch(window_size + 1))\n",
        "    ds = ds.shuffle(shuffle_buffer)\n",
        "    ds = ds.map(lambda w: (w[:-1], w[-1:]))\n",
        "    return ds.batch(batch_size).prefetch(1)\n",
        "\n",
        "train_set =windowed_dataset(sunspots_train.reshape((len(train),)),120,40,1000)"
      ],
      "execution_count": 158,
      "outputs": []
    },
    {
      "cell_type": "code",
      "metadata": {
        "id": "TGExB_nEcXhq"
      },
      "source": [
        "test_set=windowed_dataset(sunspots_test.reshape((len(test),)),120,40,1000)\n"
      ],
      "execution_count": 159,
      "outputs": []
    },
    {
      "cell_type": "code",
      "metadata": {
        "id": "aa82UP8LmJlM"
      },
      "source": [
        "# Build the model\n",
        "\n",
        "model=Sequential([LSTM(60,return_sequences=True),\n",
        "                  LSTM(60),\n",
        "                  Dropout(0.5),\n",
        "                  Dense(30,activation='relu'),\n",
        "                  Dense(10,activation='relu'),\n",
        "                  Dense(1)])\n",
        "\n",
        "optimizer = tf.keras.optimizers.SGD(learning_rate=1.0000e-04, momentum=0.9)\n",
        "model.compile(loss=tf.keras.losses.Huber(),\n",
        "              optimizer=optimizer,\n",
        "              metrics=[\"mae\"])"
      ],
      "execution_count": 160,
      "outputs": []
    },
    {
      "cell_type": "code",
      "metadata": {
        "id": "wujvte1hv8KJ"
      },
      "source": [
        "# Make callback function\n",
        "import tensorflow as tf\n",
        "class myCallback(tf.keras.callbacks.Callback):\n",
        "  def on_epoch_end(self, epoch, logs={}):\n",
        "    if(logs.get('mae')<skala ) and (logs.get('val_mae')<skala):\n",
        "      print(\"\\mae and val_mae have reached < 10 percent skala!\")\n",
        "      self.model.stop_training = True\n",
        "callbacks = myCallback()"
      ],
      "execution_count": 161,
      "outputs": []
    },
    {
      "cell_type": "code",
      "metadata": {
        "colab": {
          "base_uri": "https://localhost:8080/"
        },
        "id": "XApJkpKwmhll",
        "outputId": "eb70c5fe-21fb-4300-904c-8acae9eb5855"
      },
      "source": [
        "# Train the Model\n",
        "history = model.fit(train_set,epochs=100,validation_data=test_set,callbacks=[callbacks])"
      ],
      "execution_count": 162,
      "outputs": [
        {
          "output_type": "stream",
          "text": [
            "Epoch 1/100\n",
            "42/42 [==============================] - 12s 164ms/step - loss: 42.1285 - mae: 42.6046 - val_loss: 82.0577 - val_mae: 82.5577\n",
            "Epoch 2/100\n",
            "42/42 [==============================] - 6s 132ms/step - loss: 42.7251 - mae: 43.2042 - val_loss: 81.8109 - val_mae: 82.3109\n",
            "Epoch 3/100\n",
            "42/42 [==============================] - 6s 133ms/step - loss: 41.6733 - mae: 42.1554 - val_loss: 81.4578 - val_mae: 81.9578\n",
            "Epoch 4/100\n",
            "42/42 [==============================] - 6s 132ms/step - loss: 43.1322 - mae: 43.6191 - val_loss: 80.7957 - val_mae: 81.2953\n",
            "Epoch 5/100\n",
            "42/42 [==============================] - 6s 132ms/step - loss: 42.6843 - mae: 43.1754 - val_loss: 79.8483 - val_mae: 80.3476\n",
            "Epoch 6/100\n",
            "42/42 [==============================] - 6s 131ms/step - loss: 41.1924 - mae: 41.6851 - val_loss: 78.4430 - val_mae: 78.9426\n",
            "Epoch 7/100\n",
            "42/42 [==============================] - 6s 133ms/step - loss: 39.4297 - mae: 39.9225 - val_loss: 76.1111 - val_mae: 76.6103\n",
            "Epoch 8/100\n",
            "42/42 [==============================] - 6s 132ms/step - loss: 36.0359 - mae: 36.5286 - val_loss: 72.4792 - val_mae: 72.9774\n",
            "Epoch 9/100\n",
            "42/42 [==============================] - 6s 133ms/step - loss: 34.9337 - mae: 35.4263 - val_loss: 67.2370 - val_mae: 67.7335\n",
            "Epoch 10/100\n",
            "42/42 [==============================] - 6s 133ms/step - loss: 31.1194 - mae: 31.6126 - val_loss: 61.1920 - val_mae: 61.6890\n",
            "Epoch 11/100\n",
            "42/42 [==============================] - 6s 131ms/step - loss: 26.8487 - mae: 27.3448 - val_loss: 54.1914 - val_mae: 54.6894\n",
            "Epoch 12/100\n",
            "42/42 [==============================] - 6s 134ms/step - loss: 22.2224 - mae: 22.7150 - val_loss: 45.4644 - val_mae: 45.9593\n",
            "Epoch 13/100\n",
            "42/42 [==============================] - 6s 134ms/step - loss: 16.5486 - mae: 17.0381 - val_loss: 40.7274 - val_mae: 41.2229\n",
            "Epoch 14/100\n",
            "42/42 [==============================] - 6s 133ms/step - loss: 15.3823 - mae: 15.8724 - val_loss: 33.5582 - val_mae: 34.0496\n",
            "Epoch 15/100\n",
            "42/42 [==============================] - 6s 135ms/step - loss: 14.0681 - mae: 14.5592 - val_loss: 30.9409 - val_mae: 31.4333\n",
            "Epoch 16/100\n",
            "42/42 [==============================] - 6s 135ms/step - loss: 13.2973 - mae: 13.7850 - val_loss: 31.0437 - val_mae: 31.5420\n",
            "Epoch 17/100\n",
            "42/42 [==============================] - 6s 134ms/step - loss: 13.9073 - mae: 14.3957 - val_loss: 28.5484 - val_mae: 29.0405\n",
            "Epoch 18/100\n",
            "42/42 [==============================] - 6s 132ms/step - loss: 12.5088 - mae: 12.9986 - val_loss: 27.0559 - val_mae: 27.5534\n",
            "Epoch 19/100\n",
            "42/42 [==============================] - 6s 134ms/step - loss: 12.5817 - mae: 13.0743 - val_loss: 25.7076 - val_mae: 26.1980\n",
            "Epoch 20/100\n",
            "42/42 [==============================] - 6s 133ms/step - loss: 13.3998 - mae: 13.8878 - val_loss: 25.4043 - val_mae: 25.8959\n",
            "Epoch 21/100\n",
            "42/42 [==============================] - 6s 134ms/step - loss: 12.7567 - mae: 13.2476 - val_loss: 26.1498 - val_mae: 26.6401\n",
            "Epoch 22/100\n",
            "42/42 [==============================] - 6s 132ms/step - loss: 13.7735 - mae: 14.2614 - val_loss: 28.8449 - val_mae: 29.3406\n",
            "Epoch 23/100\n",
            "42/42 [==============================] - 6s 133ms/step - loss: 13.0563 - mae: 13.5427 - val_loss: 25.7865 - val_mae: 26.2814\n",
            "Epoch 24/100\n",
            "42/42 [==============================] - 6s 132ms/step - loss: 12.8253 - mae: 13.3141 - val_loss: 23.9378 - val_mae: 24.4314\n",
            "\\mae and val_mae have reached < 10 percent skala!\n"
          ],
          "name": "stdout"
        }
      ]
    },
    {
      "cell_type": "code",
      "metadata": {
        "id": "8CEehDbXmjyg",
        "colab": {
          "base_uri": "https://localhost:8080/",
          "height": 283
        },
        "outputId": "25e89c66-03fb-4064-ef03-a3eeca0128a0"
      },
      "source": [
        "plt.plot(history.history.get('mae'))\n",
        "plt.plot(history.history.get('val_mae'))\n",
        "plt.xlabel('epochs')\n",
        "plt.ylabel('mae')\n",
        "plt.legend(['train','test'])\n",
        "plt.ylim(0,100)\n",
        "plt.show()"
      ],
      "execution_count": 168,
      "outputs": [
        {
          "output_type": "display_data",
          "data": {
            "image/png": "[encoded data removed]",
            "text/plain": [
              "<Figure size 432x288 with 1 Axes>"
            ]
          },
          "metadata": {
            "tags": [],
            "needs_background": "light"
          }
        }
      ]
    },
    {
      "cell_type": "code",
      "metadata": {
        "colab": {
          "base_uri": "https://localhost:8080/",
          "height": 279
        },
        "id": "Eiubl3q8sFJe",
        "outputId": "75c70fe1-bac2-4427-a757-86d9e60090c1"
      },
      "source": [
        "plt.plot(history.history.get('loss'))\n",
        "plt.plot(history.history.get('val_loss'))\n",
        "plt.xlabel('epochs')\n",
        "plt.ylabel('loss')\n",
        "plt.legend(['train','test'])\n",
        "plt.show()"
      ],
      "execution_count": 169,
      "outputs": [
        {
          "output_type": "display_data",
          "data": {
            "image/png": "[encoded data removed]",
            "text/plain": [
              "<Figure size 432x288 with 1 Axes>"
            ]
          },
          "metadata": {
            "tags": [],
            "needs_background": "light"
          }
        }
      ]
    },
    {
      "cell_type": "code",
      "metadata": {
        "id": "KK_0pZqF5JJK"
      },
      "source": [
        ""
      ],
      "execution_count": null,
      "outputs": []
    }
  ]
}